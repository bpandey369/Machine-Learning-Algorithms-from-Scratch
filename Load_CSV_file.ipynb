{
  "nbformat": 4,
  "nbformat_minor": 0,
  "metadata": {
    "colab": {
      "provenance": [],
      "authorship_tag": "ABX9TyNQqK18z+gy6cJ9jiWRq/PR",
      "include_colab_link": true
    },
    "kernelspec": {
      "name": "python3",
      "display_name": "Python 3"
    },
    "language_info": {
      "name": "python"
    }
  },
  "cells": [
    {
      "cell_type": "markdown",
      "metadata": {
        "id": "view-in-github",
        "colab_type": "text"
      },
      "source": [
        "<a href=\"https://colab.research.google.com/github/bpandey369/Machine-Learning-Algorithms-from-Scratch/blob/main/Load_CSV_file.ipynb\" target=\"_parent\"><img src=\"https://colab.research.google.com/assets/colab-badge.svg\" alt=\"Open In Colab\"/></a>"
      ]
    },
    {
      "cell_type": "code",
      "execution_count": 1,
      "metadata": {
        "id": "nQV0UyTxroKL"
      },
      "outputs": [],
      "source": [
        "#load a CSV file\n",
        "\n",
        "def load_csv(filename):\n",
        "  file = open(filename,'r')\n",
        "  lines = reader(file)\n",
        "  dataset = list(lines)\n",
        "  return dataset"
      ]
    },
    {
      "cell_type": "code",
      "source": [
        "#Example of loading pima Indians CSV dataset\n",
        "\n",
        "from csv import reader\n",
        "\n",
        "#load a CSV file\n",
        "\n",
        "def load_csv(filename):\n",
        "  file = open(filename,'r')\n",
        "  lines = reader(file)\n",
        "  dataset = list(lines)\n",
        "  return dataset\n",
        "\n",
        "#load data set\n",
        "\n",
        "filename = \"pima.csv\"\n",
        "dataset = load_csv(filename)\n",
        "print(\"Loaded data file {0} with {1} rows and {2} columns\".format(filename,len(dataset),len(dataset[0])))"
      ],
      "metadata": {
        "colab": {
          "base_uri": "https://localhost:8080/"
        },
        "id": "GMoxufInRHf-",
        "outputId": "9c16fe5d-736a-4fd6-fdb1-7ab52fd85b38"
      },
      "execution_count": 6,
      "outputs": [
        {
          "output_type": "stream",
          "name": "stdout",
          "text": [
            "Loaded data file pima.csv with 768 rows and 9 columns\n"
          ]
        }
      ]
    },
    {
      "cell_type": "code",
      "source": [
        "#Example of loading pima Indians CSV dataset\n",
        "\n",
        "from csv import reader\n",
        "\n",
        "#load a CSV file\n",
        "\n",
        "def load_csv(filename):\n",
        "  dataset = list()\n",
        "  with open(filename,'r') as file:\n",
        "    csv_reader = reader(file)\n",
        "    for row in csv_reader:\n",
        "      if not row:\n",
        "        continue\n",
        "      dataset.append(row)\n",
        "  return dataset\n",
        "\n",
        "#load data set\n",
        "\n",
        "filename = \"pima.csv\"\n",
        "dataset = load_csv(filename)\n",
        "print(\"Loaded data file {0} with {1} rows and {2} columns\".format(filename,len(dataset),len(dataset[0])))"
      ],
      "metadata": {
        "colab": {
          "base_uri": "https://localhost:8080/"
        },
        "id": "bNZYS0vpT_sO",
        "outputId": "f9bcea8b-5c5e-49cb-cc87-af884d4cf3d5"
      },
      "execution_count": 7,
      "outputs": [
        {
          "output_type": "stream",
          "name": "stdout",
          "text": [
            "Loaded data file pima.csv with 768 rows and 9 columns\n"
          ]
        }
      ]
    },
    {
      "cell_type": "code",
      "source": [
        "print(dataset[0])"
      ],
      "metadata": {
        "colab": {
          "base_uri": "https://localhost:8080/"
        },
        "id": "TgRWS21SV5Gr",
        "outputId": "4aaecc94-4987-47d0-947b-35627eb50ff5"
      },
      "execution_count": 8,
      "outputs": [
        {
          "output_type": "stream",
          "name": "stdout",
          "text": [
            "['6', '148', '72', '35', '0', '33.6', '0.627', '50', '1']\n"
          ]
        }
      ]
    },
    {
      "cell_type": "code",
      "source": [
        "def str_column_to_float(dataset,column):\n",
        "  for row in dataset:\n",
        "    row[column] = float(row[column].strip())"
      ],
      "metadata": {
        "id": "DpK6b-UpWMQY"
      },
      "execution_count": 12,
      "outputs": []
    },
    {
      "cell_type": "code",
      "source": [
        "#Example of loading pima Indians CSV dataset\n",
        "\n",
        "from csv import reader\n",
        "\n",
        "#load a CSV file\n",
        "\n",
        "def load_csv(filename):\n",
        "  dataset = list()\n",
        "  with open(filename,'r') as file:\n",
        "    csv_reader = reader(file)\n",
        "    for row in csv_reader:\n",
        "      if not row:\n",
        "        continue\n",
        "      dataset.append(row)\n",
        "  return dataset\n",
        "\n",
        "#Convert string column to float\n",
        "def str_column_to_float(dataset,column):\n",
        "  for row in dataset:\n",
        "    row[column] = float(row[column].strip())\n",
        "\n",
        "#load data set\n",
        "\n",
        "filename = \"pima.csv\"\n",
        "dataset = load_csv(filename)\n",
        "print(\"Loaded data file {0} with {1} rows and {2} columns\".format(filename,len(dataset),len(dataset[0])))\n",
        "print(dataset[0])\n",
        "\n",
        "#convert string column to float\n",
        "for i in range(len(dataset[0])):\n",
        "  str_column_to_float(dataset,i)\n",
        "print(dataset[0])"
      ],
      "metadata": {
        "colab": {
          "base_uri": "https://localhost:8080/"
        },
        "id": "X2miDKVEWwwY",
        "outputId": "da868c27-ac1c-4d38-9765-8cc9b523083a"
      },
      "execution_count": 13,
      "outputs": [
        {
          "output_type": "stream",
          "name": "stdout",
          "text": [
            "Loaded data file pima.csv with 768 rows and 9 columns\n",
            "['6', '148', '72', '35', '0', '33.6', '0.627', '50', '1']\n",
            "[6.0, 148.0, 72.0, 35.0, 0.0, 33.6, 0.627, 50.0, 1.0]\n"
          ]
        }
      ]
    },
    {
      "cell_type": "code",
      "source": [
        "#Convert string to integer\n",
        "\n",
        "def str_column_to_int(dataset,column):\n",
        "  class_values = [row[column] for row in dataset]\n",
        "  unique = set(class_values)\n",
        "  lookup = dict()\n",
        "  for i, value in enumerate(unique):\n",
        "    lookup[value] = i\n",
        "\n",
        "  for row in dataset:\n",
        "    row[column] = lookup[row[column]]\n",
        "  return lookup\n",
        "\n"
      ],
      "metadata": {
        "id": "1ivjvJ_Aa3cU"
      },
      "execution_count": 14,
      "outputs": []
    },
    {
      "cell_type": "code",
      "source": [
        "#Example of loading pima Indians CSV dataset\n",
        "\n",
        "from csv import reader\n",
        "\n",
        "#load a CSV file\n",
        "\n",
        "def load_csv(filename):\n",
        "  dataset = list()\n",
        "  with open(filename,'r') as file:\n",
        "    csv_reader = reader(file)\n",
        "    for row in csv_reader:\n",
        "      if not row:\n",
        "        continue\n",
        "      dataset.append(row)\n",
        "  return dataset\n",
        "\n",
        "#Convert string to integer\n",
        "\n",
        "def str_column_to_int(dataset,column):\n",
        "  class_values = [row[column] for row in dataset]\n",
        "  unique = set(class_values)\n",
        "  lookup = dict()\n",
        "  for i, value in enumerate(unique):\n",
        "    lookup[value] = i\n",
        "\n",
        "  for row in dataset:\n",
        "    row[column] = lookup[row[column]]\n",
        "  return lookup\n",
        "\n",
        "\n",
        "#Convert string column to float\n",
        "def str_column_to_float(dataset,column):\n",
        "  for row in dataset:\n",
        "    row[column] = float(row[column].strip())\n",
        "\n",
        "#load data set\n",
        "\n",
        "filename = \"iris.csv\"\n",
        "dataset = load_csv(filename)\n",
        "print(\"Loaded data file {0} with {1} rows and {2} columns\".format(filename,len(dataset),len(dataset[0])))\n",
        "print(dataset[0])\n",
        "\n",
        "#convert string column to float\n",
        "for i in range(4):\n",
        "  str_column_to_float(dataset,i)\n",
        "\n",
        "#convert class column to int\n",
        "lookup = str_column_to_int(dataset,4)\n",
        "print(dataset[0])\n",
        "print(lookup)\n"
      ],
      "metadata": {
        "colab": {
          "base_uri": "https://localhost:8080/"
        },
        "id": "Ix3rMa8TcN53",
        "outputId": "c0ade87e-c316-47f1-f328-3cf059e89413"
      },
      "execution_count": 19,
      "outputs": [
        {
          "output_type": "stream",
          "name": "stdout",
          "text": [
            "Loaded data file iris.csv with 150 rows and 5 columns\n",
            "['5.1', '3.5', '1.4', '0.2', 'Iris-setosa']\n",
            "[5.1, 3.5, 1.4, 0.2, 2]\n",
            "{'Iris-virginica': 0, 'Iris-versicolor': 1, 'Iris-setosa': 2}\n"
          ]
        }
      ]
    }
  ]
}